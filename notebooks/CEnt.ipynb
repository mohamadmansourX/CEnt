{
 "cells": [
  {
   "cell_type": "code",
   "execution_count": 2,
   "metadata": {},
   "outputs": [
    {
     "name": "stdout",
     "output_type": "stream",
     "text": [
      "/home/mmansour/Music/AUB/Julia/TempRepo\n"
     ]
    }
   ],
   "source": [
    "%cd .."
   ]
  },
  {
   "cell_type": "code",
   "execution_count": 3,
   "metadata": {},
   "outputs": [
    {
     "name": "stderr",
     "output_type": "stream",
     "text": [
      "Using TensorFlow backend.\n"
     ]
    },
    {
     "name": "stdout",
     "output_type": "stream",
     "text": [
      "[INFO] Using Python-MIP package version 1.12.0 [model.py <module>]\n",
      "[WARNING] From /tmp/ipykernel_88741/3118733197.py:40: The name tf.Session is deprecated. Please use tf.compat.v1.Session instead.\n",
      " [deprecation_wrapper.py __getattr__]\n"
     ]
    }
   ],
   "source": [
    "from copy import deepcopy\n",
    "import os\n",
    "\n",
    "os.environ[\"TF_CPP_MIN_LOG_LEVEL\"] = \"3\"\n",
    "\n",
    "import warnings\n",
    "\n",
    "import pandas as pd\n",
    "\n",
    "warnings.simplefilter(action=\"ignore\", category=FutureWarning)\n",
    "warnings.filterwarnings(\"ignore\")\n",
    "from carla.data.api import data\n",
    "import numpy as np\n",
    "import torch\n",
    "torch.cuda.is_available = lambda : False\n",
    "import yaml\n",
    "from seed_env import seed_my_session\n",
    "from typing import Dict, List\n",
    "from cent.data_specific import DataModels\n",
    "from carla import Benchmark\n",
    "import pandas as pd\n",
    "from carla.recourse_methods import (\n",
    "    CCHVAE,\n",
    "    CEM,\n",
    "    CRUD,\n",
    "    FOCUS,\n",
    "    CausalRecourse,\n",
    "    Clue,\n",
    "    Dice,\n",
    "    Face,\n",
    "    FeatureTweak,\n",
    "    GrowingSpheres,\n",
    "    Revise,\n",
    "    Wachter,\n",
    ")\n",
    "from carla.recourse_methods.catalog.causal_recourse import constraints, samplers\n",
    "import carla.evaluation.catalog as evaluation_catalog\n",
    "from cent.method import CEnt\n",
    "from vae_benchmark import VAEBenchmark\n",
    "from tensorflow import Graph, Session\n",
    "from carla.models.catalog import MLModelCatalog"
   ]
  },
  {
   "cell_type": "code",
   "execution_count": 4,
   "metadata": {},
   "outputs": [
    {
     "name": "stdout",
     "output_type": "stream",
     "text": [
      "Loading models... --- logs will be saved to outputs/tmp/models_logs.txt\n",
      "[WARNING] From /home/mmansour/miniconda3/envs/xai/lib/python3.7/site-packages/tensorflow/python/ops/init_ops.py:97: calling VarianceScaling.__init__ (from tensorflow.python.ops.init_ops) with dtype is deprecated and will be removed in a future version.\n",
      "Instructions for updating:\n",
      "Call initializer instance with the dtype argument instead of passing it to the constructor [deprecation.py new_func]\n",
      "[WARNING] From /home/mmansour/miniconda3/envs/xai/lib/python3.7/site-packages/tensorflow/python/ops/init_ops.py:97: calling Zeros.__init__ (from tensorflow.python.ops.init_ops) with dtype is deprecated and will be removed in a future version.\n",
      "Instructions for updating:\n",
      "Call initializer instance with the dtype argument instead of passing it to the constructor [deprecation.py new_func]\n"
     ]
    }
   ],
   "source": [
    "data_name = 'adult'\n",
    "FACTUAL_NUMBER = 20\n",
    "OUT_DIR_DATA = 'outputs/tmp/'\n",
    "if not os.path.exists(OUT_DIR_DATA):\n",
    "    os.makedirs(OUT_DIR_DATA)\n",
    "data_models = DataModels(data_name = data_name,\n",
    "                             factuals_length = FACTUAL_NUMBER,\n",
    "                             out_dir = OUT_DIR_DATA)"
   ]
  },
  {
   "cell_type": "code",
   "execution_count": 20,
   "metadata": {},
   "outputs": [
    {
     "name": "stdout",
     "output_type": "stream",
     "text": [
      "min_entries_per_label is too small 487, setting it to 500 \n",
      "{'input_dim': 13, 'kld_weight': 0.0025, 'layers': [32, 16], 'latent_dim': 7, 'hidden_activation': 'relu', 'dropout': 0.2, 'batch_norm': True, 'batch_size': 64, 'epochs': 16, 'learning_rate': 0.001, 'weight_decay': 0.0, 'cuda': False, 'verbose': True, 'train': True, 'save_dir': './vae_model/'}\n",
      "./vae_model/adult\n",
      "Epoch: 0, ELBO Loss: 104.75636291503906, Test MSELoss: 55.0160026550293\n",
      "Epoch: 0, Best ELBO Loss: 104.75636291503906\n",
      "Epoch: 1, ELBO Loss: 49.49557876586914, Test MSELoss: 45.0239372253418\n",
      "BEST Epoch: 1, Best ELBO Loss: 49.49557876586914\n",
      "Epoch: 2, ELBO Loss: 43.653743743896484, Test MSELoss: 41.34355163574219\n",
      "BEST Epoch: 2, Best ELBO Loss: 43.653743743896484\n",
      "Epoch: 3, ELBO Loss: 40.522613525390625, Test MSELoss: 38.45353698730469\n",
      "BEST Epoch: 3, Best ELBO Loss: 40.522613525390625\n",
      "Epoch: 4, ELBO Loss: 37.70673751831055, Test MSELoss: 35.75862503051758\n",
      "BEST Epoch: 4, Best ELBO Loss: 37.70673751831055\n",
      "Epoch: 5, ELBO Loss: 35.056114196777344, Test MSELoss: 33.66770553588867\n",
      "BEST Epoch: 5, Best ELBO Loss: 35.056114196777344\n",
      "Epoch: 6, ELBO Loss: 33.56972885131836, Test MSELoss: 32.84724044799805\n",
      "BEST Epoch: 6, Best ELBO Loss: 33.56972885131836\n",
      "Epoch: 7, ELBO Loss: 31.968284606933594, Test MSELoss: 30.88082504272461\n",
      "BEST Epoch: 7, Best ELBO Loss: 31.968284606933594\n",
      "Epoch: 8, ELBO Loss: 30.658109664916992, Test MSELoss: 29.676923751831055\n",
      "BEST Epoch: 8, Best ELBO Loss: 30.658109664916992\n",
      "Epoch: 9, ELBO Loss: 29.48297119140625, Test MSELoss: 29.00360870361328\n",
      "BEST Epoch: 9, Best ELBO Loss: 29.48297119140625\n",
      "Epoch: 10, ELBO Loss: 28.6379337310791, Test MSELoss: 28.07387351989746\n",
      "BEST Epoch: 10, Best ELBO Loss: 28.6379337310791\n",
      "Epoch: 11, ELBO Loss: 27.75259780883789, Test MSELoss: 27.044164657592773\n",
      "BEST Epoch: 11, Best ELBO Loss: 27.75259780883789\n",
      "Epoch: 12, ELBO Loss: 27.253829956054688, Test MSELoss: 26.700958251953125\n",
      "BEST Epoch: 12, Best ELBO Loss: 27.253829956054688\n",
      "Epoch: 13, ELBO Loss: 26.95132827758789, Test MSELoss: 26.229774475097656\n",
      "BEST Epoch: 13, Best ELBO Loss: 26.95132827758789\n",
      "Epoch: 14, ELBO Loss: 26.332412719726562, Test MSELoss: 26.258237838745117\n",
      "BEST Epoch: 14, Best ELBO Loss: 26.332412719726562\n",
      "Epoch: 15, ELBO Loss: 25.89451026916504, Test MSELoss: 25.467674255371094\n",
      "BEST Epoch: 15, Best ELBO Loss: 25.89451026916504\n",
      "Get Encodings...\n",
      "Initializing the NNDescent...\n",
      "DT Warming Up on 5 fits...\n",
      "{'criterion': 'gini', 'max_depth': 4, 'max_features': 0.8, 'min_samples_leaf': 3, 'min_samples_split': 2, 'splitter': 'best'}\n"
     ]
    }
   ],
   "source": [
    "layers = [25]\n",
    "latent_dim = 7\n",
    "mlmodel = data_models.models_zoo['ann']['tensorflow']\n",
    "min_entries_per_label = int(data_models.trainData.df.shape[0]*0.01)\n",
    "MIN_ENTRIES_PER_LABEL_THRESH = 500\n",
    "if min_entries_per_label<MIN_ENTRIES_PER_LABEL_THRESH:\n",
    "    print('min_entries_per_label is too small {}, setting it to {} '.format(min_entries_per_label,MIN_ENTRIES_PER_LABEL_THRESH))\n",
    "#TODO: @MM Return this to 1% of data\n",
    "min_entries_per_label = MIN_ENTRIES_PER_LABEL_THRESH\n",
    "hpr = {\"data_name\":\"adult\",\n",
    "        \"myvae_params\": {\n",
    "            'input_dim': len(mlmodel.feature_input_order),\n",
    "            \"epochs\":16\n",
    "        },\n",
    "        \"tree_params\": {\n",
    "            \"min_entries_per_label\": min_entries_per_label,\n",
    "            \"max_search\" : 50,\n",
    "            \"grid_search\": {\"cv\": 1,\"splitter\": [\"best\"],\"criterion\": [\"gini\"],\"max_depth\": [3,4,5,6,7],\n",
    "                            \"min_samples_split\": [1.0,2,3],\"min_samples_leaf\": [1,2,3],\n",
    "                            \"max_features\": ['sqrt',1.0, 'log2',0.8],\n",
    "                            }\n",
    "        }\n",
    "    }\n",
    "cent_method =  CEnt(deepcopy(data_models.trainData), mlmodel, hpr, data_catalog= data_models.new_catalog_n)"
   ]
  },
  {
   "cell_type": "code",
   "execution_count": 23,
   "metadata": {},
   "outputs": [],
   "source": [
    "from time import time\n",
    "fact = data_models.factuals['ann'].sample(1)"
   ]
  },
  {
   "cell_type": "code",
   "execution_count": 26,
   "metadata": {},
   "outputs": [
    {
     "name": "stdout",
     "output_type": "stream",
     "text": [
      "Time taken to get contrast: 0.02 seconds\n"
     ]
    },
    {
     "data": {
      "text/html": [
       "<div>\n",
       "<style scoped>\n",
       "    .dataframe tbody tr th:only-of-type {\n",
       "        vertical-align: middle;\n",
       "    }\n",
       "\n",
       "    .dataframe tbody tr th {\n",
       "        vertical-align: top;\n",
       "    }\n",
       "\n",
       "    .dataframe thead th {\n",
       "        text-align: right;\n",
       "    }\n",
       "</style>\n",
       "<table border=\"1\" class=\"dataframe\">\n",
       "  <thead>\n",
       "    <tr style=\"text-align: right;\">\n",
       "      <th></th>\n",
       "      <th>age</th>\n",
       "      <th>fnlwgt</th>\n",
       "      <th>education-num</th>\n",
       "      <th>capital-gain</th>\n",
       "      <th>capital-loss</th>\n",
       "      <th>...</th>\n",
       "      <th>occupation_Other</th>\n",
       "      <th>relationship_Non-Husband</th>\n",
       "      <th>race_White</th>\n",
       "      <th>sex_Male</th>\n",
       "      <th>native-country_US</th>\n",
       "    </tr>\n",
       "  </thead>\n",
       "  <tbody>\n",
       "    <tr>\n",
       "      <th>0</th>\n",
       "      <td>0.164384</td>\n",
       "      <td>0.076916</td>\n",
       "      <td>0.764858</td>\n",
       "      <td>0.071366</td>\n",
       "      <td>0.0</td>\n",
       "      <td>...</td>\n",
       "      <td>1.0</td>\n",
       "      <td>1.0</td>\n",
       "      <td>1.0</td>\n",
       "      <td>0.0</td>\n",
       "      <td>1.0</td>\n",
       "    </tr>\n",
       "  </tbody>\n",
       "</table>\n",
       "<p>1 rows × 13 columns</p>\n",
       "</div>"
      ],
      "text/plain": [
       "        age    fnlwgt  education-num  capital-gain  capital-loss  ...  \\\n",
       "0  0.164384  0.076916       0.764858      0.071366           0.0  ...   \n",
       "\n",
       "   occupation_Other  relationship_Non-Husband  race_White  sex_Male  \\\n",
       "0               1.0                       1.0         1.0       0.0   \n",
       "\n",
       "   native-country_US  \n",
       "0                1.0  \n",
       "\n",
       "[1 rows x 13 columns]"
      ]
     },
     "execution_count": 26,
     "metadata": {},
     "output_type": "execute_result"
    }
   ],
   "source": [
    "start_timer = time()\n",
    "contrast = cent_method.get_counterfactuals(fact)\n",
    "print('Time taken to get contrast: {:.2f} seconds'.format(time()-start_timer))\n",
    "contrast"
   ]
  },
  {
   "cell_type": "code",
   "execution_count": 35,
   "metadata": {},
   "outputs": [
    {
     "name": "stdout",
     "output_type": "stream",
     "text": [
      "To flip the binary class from 0 to 1, we moved our factual to a point satisfying the following conditions:\n",
      "\teducation-num needs to be > than 0.7666666805744171\n",
      "\tmarital-status_Non-Married needs to be flipped to False\n",
      "\tcapital-gain needs to be > than 0.0748707503080368\n"
     ]
    }
   ],
   "source": [
    "cent_method.explain_in_text(fact)"
   ]
  }
 ],
 "metadata": {
  "kernelspec": {
   "display_name": "Python 3.7.13 ('xai')",
   "language": "python",
   "name": "python3"
  },
  "language_info": {
   "codemirror_mode": {
    "name": "ipython",
    "version": 3
   },
   "file_extension": ".py",
   "mimetype": "text/x-python",
   "name": "python",
   "nbconvert_exporter": "python",
   "pygments_lexer": "ipython3",
   "version": "3.7.13"
  },
  "orig_nbformat": 4,
  "vscode": {
   "interpreter": {
    "hash": "ed7d092e1e62380f8fbf298e57116b8df576168f9d2d30197b9cdcbc5ff4cbd0"
   }
  }
 },
 "nbformat": 4,
 "nbformat_minor": 2
}
