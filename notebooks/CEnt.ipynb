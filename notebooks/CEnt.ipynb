{
 "cells": [
  {
   "cell_type": "code",
   "execution_count": null,
   "metadata": {},
   "outputs": [],
   "source": [
    "%cd .."
   ]
  },
  {
   "cell_type": "code",
   "execution_count": null,
   "metadata": {},
   "outputs": [],
   "source": [
    "from copy import deepcopy\n",
    "import os\n",
    "\n",
    "os.environ[\"TF_CPP_MIN_LOG_LEVEL\"] = \"3\"\n",
    "\n",
    "import warnings\n",
    "\n",
    "import pandas as pd\n",
    "\n",
    "warnings.simplefilter(action=\"ignore\", category=FutureWarning)\n",
    "warnings.filterwarnings(\"ignore\")\n",
    "from carla.data.api import data\n",
    "import numpy as np\n",
    "import torch\n",
    "torch.cuda.is_available = lambda : False\n",
    "import yaml\n",
    "from seed_env import seed_my_session\n",
    "from typing import Dict, List\n",
    "from cent.data_specific import DataModels\n",
    "from carla import Benchmark\n",
    "import pandas as pd\n",
    "from carla.recourse_methods import (\n",
    "    CCHVAE,\n",
    "    CEM,\n",
    "    CRUD,\n",
    "    FOCUS,\n",
    "    CausalRecourse,\n",
    "    Clue,\n",
    "    Dice,\n",
    "    Face,\n",
    "    FeatureTweak,\n",
    "    GrowingSpheres,\n",
    "    Revise,\n",
    "    Wachter,\n",
    ")\n",
    "from carla.recourse_methods.catalog.causal_recourse import constraints, samplers\n",
    "import carla.evaluation.catalog as evaluation_catalog\n",
    "from cent.method import CEnt\n",
    "from vae_benchmark import VAEBenchmark\n",
    "from tensorflow import Graph, Session\n",
    "from carla.models.catalog import MLModelCatalog"
   ]
  },
  {
   "cell_type": "code",
   "execution_count": null,
   "metadata": {},
   "outputs": [],
   "source": [
    "data_name = 'adult'\n",
    "FACTUAL_NUMBER = 20\n",
    "OUT_DIR_DATA = 'outputs/tmp/'\n",
    "if not os.path.exists(OUT_DIR_DATA):\n",
    "    os.makedirs(OUT_DIR_DATA)\n",
    "data_models = DataModels(data_name = data_name,\n",
    "                             factuals_length = FACTUAL_NUMBER,\n",
    "                             out_dir = OUT_DIR_DATA)"
   ]
  },
  {
   "cell_type": "code",
   "execution_count": 5,
   "metadata": {},
   "outputs": [],
   "source": [
    "layers = [25]\n",
    "latent_dim = 7\n",
    "mlmodel = data_models.models_zoo['ann']['tensorflow']"
   ]
  },
  {
   "cell_type": "code",
   "execution_count": null,
   "metadata": {},
   "outputs": [],
   "source": [
    "min_entries_per_label = int(data_models.trainData.df.shape[0]*0.01)\n",
    "MIN_ENTRIES_PER_LABEL_THRESH = 500\n",
    "if min_entries_per_label<MIN_ENTRIES_PER_LABEL_THRESH:\n",
    "    print('min_entries_per_label is too small {}, setting it to {} '.format(min_entries_per_label,MIN_ENTRIES_PER_LABEL_THRESH))\n",
    "#TODO: @MM Return this to 1% of data\n",
    "min_entries_per_label = MIN_ENTRIES_PER_LABEL_THRESH\n",
    "hpr = {\"data_name\": \"data_name\",\"n_search_samples\": 300,\n",
    "        \"p_norm\": 1,\"step\": 0.1,\"max_iter\": 10,\"clamp\": True,\n",
    "        \"treeWarmUp\": 5,\n",
    "        \"binary_cat_features\": True,\n",
    "        \"myvae_params\": {\n",
    "            'input_dim': len(mlmodel.feature_input_order),\n",
    "            'kld_weight': 0.00025,\n",
    "            'layers': layers,\n",
    "            'latent_dim': latent_dim,\n",
    "            'hidden_activation': 'relu',\n",
    "            'dropout': 0.2,\n",
    "            'batch_norm': True,\n",
    "            'batch_size': 32,\n",
    "            'epochs': 15,\n",
    "            'learning_rate': 0.001,\n",
    "            'weight_decay': 0.000001,\n",
    "            'cuda': False,\n",
    "            'verbose': True,\n",
    "            'train': True,\n",
    "            'save_dir': './vae_model/',\n",
    "        },\n",
    "        \"tree_params\": {\n",
    "            \"min_entries_per_label\": min_entries_per_label,\n",
    "            \"grid_search_jobs\": -1,\n",
    "            \"min_weight_gini\": 100,\n",
    "            \"max_search\" : 50,\n",
    "            \"grid_search\": {\"cv\": 1,\"splitter\": [\"best\"],\"criterion\": [\"gini\"],\"max_depth\": [3,4,5,6,7],\n",
    "                            \"min_samples_split\": [1.0,2,3],\"min_samples_leaf\": [1,2,3],\n",
    "                            \"max_features\": ['sqrt',1.0, 'log2',0.8],\n",
    "                            }\n",
    "        }\n",
    "    }\n",
    "cent_method =  CEnt(deepcopy(data_models.trainData), mlmodel, hpr, data_catalog= data_models.new_catalog_n)"
   ]
  },
  {
   "cell_type": "code",
   "execution_count": 7,
   "metadata": {},
   "outputs": [],
   "source": [
    "from time import time\n",
    "fact = data_models.factuals['ann'].sample(1)"
   ]
  },
  {
   "cell_type": "code",
   "execution_count": 8,
   "metadata": {},
   "outputs": [
    {
     "name": "stdout",
     "output_type": "stream",
     "text": [
      "Time taken to get contrast: 0.04 seconds\n"
     ]
    },
    {
     "data": {
      "text/html": [
       "<div>\n",
       "<style scoped>\n",
       "    .dataframe tbody tr th:only-of-type {\n",
       "        vertical-align: middle;\n",
       "    }\n",
       "\n",
       "    .dataframe tbody tr th {\n",
       "        vertical-align: top;\n",
       "    }\n",
       "\n",
       "    .dataframe thead th {\n",
       "        text-align: right;\n",
       "    }\n",
       "</style>\n",
       "<table border=\"1\" class=\"dataframe\">\n",
       "  <thead>\n",
       "    <tr style=\"text-align: right;\">\n",
       "      <th></th>\n",
       "      <th>age</th>\n",
       "      <th>fnlwgt</th>\n",
       "      <th>education-num</th>\n",
       "      <th>capital-gain</th>\n",
       "      <th>capital-loss</th>\n",
       "      <th>...</th>\n",
       "      <th>occupation_Other</th>\n",
       "      <th>relationship_Non-Husband</th>\n",
       "      <th>race_White</th>\n",
       "      <th>sex_Male</th>\n",
       "      <th>native-country_US</th>\n",
       "    </tr>\n",
       "  </thead>\n",
       "  <tbody>\n",
       "    <tr>\n",
       "      <th>32522</th>\n",
       "      <td>0.164384</td>\n",
       "      <td>0.076916</td>\n",
       "      <td>0.827853</td>\n",
       "      <td>0.0</td>\n",
       "      <td>0.304751</td>\n",
       "      <td>...</td>\n",
       "      <td>1.0</td>\n",
       "      <td>1.0</td>\n",
       "      <td>1.0</td>\n",
       "      <td>0.0</td>\n",
       "      <td>1.0</td>\n",
       "    </tr>\n",
       "  </tbody>\n",
       "</table>\n",
       "<p>1 rows × 13 columns</p>\n",
       "</div>"
      ],
      "text/plain": [
       "            age    fnlwgt  education-num  capital-gain  capital-loss  ...  \\\n",
       "32522  0.164384  0.076916       0.827853           0.0      0.304751  ...   \n",
       "\n",
       "       occupation_Other  relationship_Non-Husband  race_White  sex_Male  \\\n",
       "32522               1.0                       1.0         1.0       0.0   \n",
       "\n",
       "       native-country_US  \n",
       "32522                1.0  \n",
       "\n",
       "[1 rows x 13 columns]"
      ]
     },
     "execution_count": 8,
     "metadata": {},
     "output_type": "execute_result"
    }
   ],
   "source": [
    "start_timer = time()\n",
    "contrast = cent_method.get_counterfactuals(fact)\n",
    "print('Time taken to get contrast: {:.2f} seconds'.format(time()-start_timer))\n",
    "contrast"
   ]
  },
  {
   "cell_type": "code",
   "execution_count": 37,
   "metadata": {},
   "outputs": [
    {
     "name": "stdout",
     "output_type": "stream",
     "text": [
      "To flip the binary class from 0 to 1, we moved our factual to a point satisfying the following conditions:\n",
      "\teducation-num need to be > than 0.8333333432674408\n",
      "\tmarital-status_Non-Married need to be flipped to False\n",
      "\tcapital-loss need to be > than 0.30486685037612915\n"
     ]
    }
   ],
   "source": [
    "print(\"To flip the binary class from {} to {}, we moved our factual to a point satisfying the following conditions:\".format(fact[mlmodel.data.target].values[0],fact[mlmodel.data.target].values[0]*-1 +1))\n",
    "for rule in cent_method.found_node.conditions:\n",
    "    if rule.feature in data_models.new_catalog_n['categorical']:\n",
    "        to_bin_value = bool(fact['marital-status_Non-Married'].values[0]*-1+1)\n",
    "        print('\\t{} need to be flipped to {}'.format(rule.feature,to_bin_value))\n",
    "    else:\n",
    "        print('\\t{} need to be {} than {}'.format(rule.feature,rule.threshold_sign, rule.threshold))"
   ]
  }
 ],
 "metadata": {
  "kernelspec": {
   "display_name": "Python 3.7.13 ('xai')",
   "language": "python",
   "name": "python3"
  },
  "language_info": {
   "codemirror_mode": {
    "name": "ipython",
    "version": 3
   },
   "file_extension": ".py",
   "mimetype": "text/x-python",
   "name": "python",
   "nbconvert_exporter": "python",
   "pygments_lexer": "ipython3",
   "version": "3.7.13"
  },
  "orig_nbformat": 4,
  "vscode": {
   "interpreter": {
    "hash": "ed7d092e1e62380f8fbf298e57116b8df576168f9d2d30197b9cdcbc5ff4cbd0"
   }
  }
 },
 "nbformat": 4,
 "nbformat_minor": 2
}
