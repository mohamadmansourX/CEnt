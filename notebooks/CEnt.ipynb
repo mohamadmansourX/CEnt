{
 "cells": [
  {
   "cell_type": "code",
   "execution_count": 1,
   "metadata": {},
   "outputs": [
    {
     "name": "stdout",
     "output_type": "stream",
     "text": [
      "/home/mmansour/Music/AUB/Julia/TreeBased_Carla\n"
     ]
    }
   ],
   "source": [
    "%cd .."
   ]
  },
  {
   "cell_type": "code",
   "execution_count": 2,
   "metadata": {},
   "outputs": [
    {
     "name": "stderr",
     "output_type": "stream",
     "text": [
      "Using TensorFlow backend.\n"
     ]
    },
    {
     "name": "stdout",
     "output_type": "stream",
     "text": [
      "[INFO] Using Python-MIP package version 1.12.0 [model.py <module>]\n",
      "[WARNING] From /tmp/ipykernel_52171/3118733197.py:40: The name tf.Session is deprecated. Please use tf.compat.v1.Session instead.\n",
      " [deprecation_wrapper.py __getattr__]\n"
     ]
    }
   ],
   "source": [
    "from copy import deepcopy\n",
    "import os\n",
    "\n",
    "os.environ[\"TF_CPP_MIN_LOG_LEVEL\"] = \"3\"\n",
    "\n",
    "import warnings\n",
    "\n",
    "import pandas as pd\n",
    "\n",
    "warnings.simplefilter(action=\"ignore\", category=FutureWarning)\n",
    "warnings.filterwarnings(\"ignore\")\n",
    "from carla.data.api import data\n",
    "import numpy as np\n",
    "import torch\n",
    "torch.cuda.is_available = lambda : False\n",
    "import yaml\n",
    "from seed_env import seed_my_session\n",
    "from typing import Dict, List\n",
    "from cent.data_specific import DataModels\n",
    "from carla import Benchmark\n",
    "import pandas as pd\n",
    "from carla.recourse_methods import (\n",
    "    CCHVAE,\n",
    "    CEM,\n",
    "    CRUD,\n",
    "    FOCUS,\n",
    "    CausalRecourse,\n",
    "    Clue,\n",
    "    Dice,\n",
    "    Face,\n",
    "    FeatureTweak,\n",
    "    GrowingSpheres,\n",
    "    Revise,\n",
    "    Wachter,\n",
    ")\n",
    "from carla.recourse_methods.catalog.causal_recourse import constraints, samplers\n",
    "import carla.evaluation.catalog as evaluation_catalog\n",
    "from cent.method import CEnt\n",
    "from vae_benchmark import VAEBenchmark\n",
    "from tensorflow import Graph, Session\n",
    "from carla.models.catalog import MLModelCatalog"
   ]
  },
  {
   "cell_type": "code",
   "execution_count": 3,
   "metadata": {},
   "outputs": [
    {
     "name": "stdout",
     "output_type": "stream",
     "text": [
      "Loading models... --- logs will be saved to outputs/tmp/models_logs.txt\n",
      "[WARNING] From /home/mmansour/miniconda3/envs/xai/lib/python3.7/site-packages/tensorflow/python/ops/init_ops.py:97: calling VarianceScaling.__init__ (from tensorflow.python.ops.init_ops) with dtype is deprecated and will be removed in a future version.\n",
      "Instructions for updating:\n",
      "Call initializer instance with the dtype argument instead of passing it to the constructor [deprecation.py new_func]\n",
      "[WARNING] From /home/mmansour/miniconda3/envs/xai/lib/python3.7/site-packages/tensorflow/python/ops/init_ops.py:97: calling Zeros.__init__ (from tensorflow.python.ops.init_ops) with dtype is deprecated and will be removed in a future version.\n",
      "Instructions for updating:\n",
      "Call initializer instance with the dtype argument instead of passing it to the constructor [deprecation.py new_func]\n"
     ]
    }
   ],
   "source": [
    "data_name = 'adult'\n",
    "FACTUAL_NUMBER = 20\n",
    "OUT_DIR_DATA = 'outputs/tmp/'\n",
    "data_models = DataModels(data_name = data_name,\n",
    "                             factuals_length = FACTUAL_NUMBER,\n",
    "                             out_dir = OUT_DIR_DATA)"
   ]
  },
  {
   "cell_type": "code",
   "execution_count": 4,
   "metadata": {},
   "outputs": [],
   "source": [
    "layers = [25, 16]\n",
    "latent_dim = 8\n",
    "mlmodel = data_models.models_zoo['ann']['tensorflow']"
   ]
  },
  {
   "cell_type": "code",
   "execution_count": 5,
   "metadata": {},
   "outputs": [
    {
     "name": "stdout",
     "output_type": "stream",
     "text": [
      "min_entries_per_label is too small 487, setting it to 500 \n",
      "{'input_dim': 13, 'kld_weight': 0.00025, 'layers': [25, 16], 'latent_dim': 8, 'hidden_activation': 'relu', 'dropout': 0.2, 'batch_norm': True, 'batch_size': 32, 'epochs': 1, 'learning_rate': 0.001, 'weight_decay': 1e-06, 'cuda': False, 'verbose': True, 'train': True, 'save_dir': './vae_model/'}\n",
      "./vae_model/adult\n",
      "Epoch: 0, ELBO Loss: 43.046390533447266, Test MSELoss: 23.748332977294922\n",
      "Epoch: 0, Best ELBO Loss: 43.046390533447266\n",
      "Get Encodings...\n",
      "Initializing the NNDescent...\n",
      "DT Warming Up on 5 fits...\n",
      "{'criterion': 'gini', 'max_depth': 5, 'max_features': 1.0, 'min_samples_leaf': 3, 'min_samples_split': 2, 'splitter': 'best'}\n"
     ]
    }
   ],
   "source": [
    "min_entries_per_label = int(data_models.trainData.df.shape[0]*0.01)\n",
    "MIN_ENTRIES_PER_LABEL_THRESH = 500\n",
    "if min_entries_per_label<MIN_ENTRIES_PER_LABEL_THRESH:\n",
    "    print('min_entries_per_label is too small {}, setting it to {} '.format(min_entries_per_label,MIN_ENTRIES_PER_LABEL_THRESH))\n",
    "#TODO: @MM Return this to 1% of data\n",
    "min_entries_per_label = MIN_ENTRIES_PER_LABEL_THRESH\n",
    "hpr = {\"data_name\": \"data_name\",\"n_search_samples\": 300,\n",
    "        \"p_norm\": 1,\"step\": 0.1,\"max_iter\": 10,\"clamp\": True,\n",
    "        \"treeWarmUp\": 5,\n",
    "        \"binary_cat_features\": True,\n",
    "        \"myvae_params\": {\n",
    "            'input_dim': len(mlmodel.feature_input_order),\n",
    "            'kld_weight': 0.00025,\n",
    "            'layers': layers,\n",
    "            'latent_dim': latent_dim,\n",
    "            'hidden_activation': 'relu',\n",
    "            'dropout': 0.2,\n",
    "            'batch_norm': True,\n",
    "            'batch_size': 32,\n",
    "            'epochs': 1,\n",
    "            'learning_rate': 0.001,\n",
    "            'weight_decay': 0.000001,\n",
    "            'cuda': False,\n",
    "            'verbose': True,\n",
    "            'train': True,\n",
    "            'save_dir': './vae_model/',\n",
    "        },\n",
    "        \"tree_params\": {\n",
    "            \"min_entries_per_label\": min_entries_per_label,\n",
    "            \"grid_search_jobs\": -1,\n",
    "            \"min_weight_gini\": 100,\n",
    "            \"max_search\" : 50,\n",
    "            \"grid_search\": {\"cv\": 1,\"splitter\": [\"best\"],\"criterion\": [\"gini\"],\"max_depth\": [3,4,5,6,7],\n",
    "                            \"min_samples_split\": [1.0,2,3],\"min_samples_leaf\": [1,2,3],\n",
    "                            \"max_features\": ['sqrt',1.0, 'log2',0.8],\n",
    "                            }\n",
    "        }\n",
    "    }\n",
    "cent_method =  CEnt(deepcopy(data_models.trainData), mlmodel, hpr, data_catalog= data_models.new_catalog_n)"
   ]
  },
  {
   "cell_type": "code",
   "execution_count": 9,
   "metadata": {},
   "outputs": [
    {
     "data": {
      "text/html": [
       "<div>\n",
       "<style scoped>\n",
       "    .dataframe tbody tr th:only-of-type {\n",
       "        vertical-align: middle;\n",
       "    }\n",
       "\n",
       "    .dataframe tbody tr th {\n",
       "        vertical-align: top;\n",
       "    }\n",
       "\n",
       "    .dataframe thead th {\n",
       "        text-align: right;\n",
       "    }\n",
       "</style>\n",
       "<table border=\"1\" class=\"dataframe\">\n",
       "  <thead>\n",
       "    <tr style=\"text-align: right;\">\n",
       "      <th></th>\n",
       "      <th>age</th>\n",
       "      <th>fnlwgt</th>\n",
       "      <th>education-num</th>\n",
       "      <th>capital-gain</th>\n",
       "      <th>capital-loss</th>\n",
       "      <th>...</th>\n",
       "      <th>occupation_Other</th>\n",
       "      <th>relationship_Non-Husband</th>\n",
       "      <th>race_White</th>\n",
       "      <th>sex_Male</th>\n",
       "      <th>native-country_US</th>\n",
       "    </tr>\n",
       "  </thead>\n",
       "  <tbody>\n",
       "    <tr>\n",
       "      <th>15671</th>\n",
       "      <td>0.273973</td>\n",
       "      <td>0.061062</td>\n",
       "      <td>0.766881</td>\n",
       "      <td>0.047293</td>\n",
       "      <td>0.0</td>\n",
       "      <td>...</td>\n",
       "      <td>1.0</td>\n",
       "      <td>1.0</td>\n",
       "      <td>0.0</td>\n",
       "      <td>0.0</td>\n",
       "      <td>1.0</td>\n",
       "    </tr>\n",
       "  </tbody>\n",
       "</table>\n",
       "<p>1 rows × 13 columns</p>\n",
       "</div>"
      ],
      "text/plain": [
       "            age    fnlwgt  education-num  capital-gain  capital-loss  ...  \\\n",
       "15671  0.273973  0.061062       0.766881      0.047293           0.0  ...   \n",
       "\n",
       "       occupation_Other  relationship_Non-Husband  race_White  sex_Male  \\\n",
       "15671               1.0                       1.0         0.0       0.0   \n",
       "\n",
       "       native-country_US  \n",
       "15671                1.0  \n",
       "\n",
       "[1 rows x 13 columns]"
      ]
     },
     "execution_count": 9,
     "metadata": {},
     "output_type": "execute_result"
    }
   ],
   "source": [
    "fact = data_models.factuals['ann'].sample(1)\n",
    "cent_method.get_counterfactuals(fact)"
   ]
  },
  {
   "cell_type": "code",
   "execution_count": 18,
   "metadata": {},
   "outputs": [
    {
     "name": "stdout",
     "output_type": "stream",
     "text": [
      "To flip the class from 0 to 1, we applied the following:\n",
      "[education-num <= 0.7666666805744171, capital-gain > 0.04831548407673836, education-num > 0.5666666924953461]\n"
     ]
    }
   ],
   "source": [
    "print(\"To flip the class from {} to {}, we applied the following:\".format(fact[mlmodel.data.target].values[0],fact[mlmodel.data.target].values[0]*-1 +1))\n",
    "print(cent_method.found_node.conditions)\n"
   ]
  }
 ],
 "metadata": {
  "kernelspec": {
   "display_name": "Python 3.7.13 ('xai')",
   "language": "python",
   "name": "python3"
  },
  "language_info": {
   "codemirror_mode": {
    "name": "ipython",
    "version": 3
   },
   "file_extension": ".py",
   "mimetype": "text/x-python",
   "name": "python",
   "nbconvert_exporter": "python",
   "pygments_lexer": "ipython3",
   "version": "3.7.13"
  },
  "orig_nbformat": 4,
  "vscode": {
   "interpreter": {
    "hash": "ed7d092e1e62380f8fbf298e57116b8df576168f9d2d30197b9cdcbc5ff4cbd0"
   }
  }
 },
 "nbformat": 4,
 "nbformat_minor": 2
}
